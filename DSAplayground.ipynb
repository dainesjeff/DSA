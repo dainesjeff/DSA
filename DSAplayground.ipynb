{
  "nbformat": 4,
  "nbformat_minor": 0,
  "metadata": {
    "colab": {
      "provenance": [],
      "collapsed_sections": [
        "t-ReGGEfiYZk",
        "PvJBDrhnZzQq"
      ],
      "authorship_tag": "ABX9TyMeOGGdTz8QxfYLn5t4RqUC",
      "include_colab_link": true
    },
    "kernelspec": {
      "name": "python3",
      "display_name": "Python 3"
    },
    "language_info": {
      "name": "python"
    }
  },
  "cells": [
    {
      "cell_type": "markdown",
      "metadata": {
        "id": "view-in-github",
        "colab_type": "text"
      },
      "source": [
        "<a href=\"https://colab.research.google.com/github/dainesjeff/DSA/blob/main/DSAplayground.ipynb\" target=\"_parent\"><img src=\"https://colab.research.google.com/assets/colab-badge.svg\" alt=\"Open In Colab\"/></a>"
      ]
    },
    {
      "cell_type": "markdown",
      "source": [
        "# **Count Nodes in a Binary Tree Using DFS**"
      ],
      "metadata": {
        "id": "3LbaclPUslM4"
      }
    },
    {
      "cell_type": "code",
      "source": [
        "class TreeNode:\n",
        "    def __init__(self, val=0, left=None, right=None):\n",
        "        self.val = val\n",
        "        self.left = left\n",
        "        self.right = right\n",
        "\n",
        "class Solution:\n",
        "    def countNodes(self, root: TreeNode) -> int:\n",
        "        return 1 + self.countNodes(root.right) + self.countNodes(root.left) if root else 0\n",
        "\n",
        "# TIME = O(N)\n",
        "# SPACE = O(Log(n))"
      ],
      "metadata": {
        "id": "-6JHUDZIszSa"
      },
      "execution_count": null,
      "outputs": []
    },
    {
      "cell_type": "markdown",
      "source": [
        "# **Square Root**"
      ],
      "metadata": {
        "id": "t-ReGGEfiYZk"
      }
    },
    {
      "cell_type": "code",
      "source": [
        "from math import e, log\n",
        "class Solution:\n",
        "    def mySqrt(self, x):\n",
        "        if x < 2:\n",
        "            return x\n",
        "\n",
        "        left = int(e**(0.5 * log(x)))\n",
        "        right = left + 1\n",
        "        return left if right * right > x else right\n",
        "# Time: O(log(N))\n",
        "# Space: O(1)"
      ],
      "metadata": {
        "id": "hK9xWcTuLMgb"
      },
      "execution_count": null,
      "outputs": []
    },
    {
      "cell_type": "markdown",
      "source": [
        "# **Singly-Linked List Cycle Detection (Floyd's Method)**"
      ],
      "metadata": {
        "id": "PvJBDrhnZzQq"
      }
    },
    {
      "cell_type": "code",
      "source": [
        "#Definition for singly-linked list.\n",
        "class ListNode:\n",
        "    def __init__(self, x):\n",
        "        self.val = x\n",
        "        self.next = None\n",
        "\n",
        "class Solution:\n",
        "    def hasCycle(self, head: Optional[ListNode]) -> bool:\n",
        "        if head is None:\n",
        "            return False\n",
        "        slow = head\n",
        "        fast = head.next\n",
        "        while slow != fast:\n",
        "            if fast is None or fast.next is None:\n",
        "                return False\n",
        "            slow = slow.next\n",
        "            fast = fast.next.next\n",
        "        return True\n",
        "\n",
        "# Time: O(N)\n",
        "# Space: O(1)"
      ],
      "metadata": {
        "id": "povAQTf-Z8yD"
      },
      "execution_count": null,
      "outputs": []
    },
    {
      "cell_type": "markdown",
      "source": [
        "# **Build Binary Tree From Sorted Array**"
      ],
      "metadata": {
        "id": "bU-SRd94q912"
      }
    },
    {
      "cell_type": "code",
      "source": [
        "# Definition for a binary tree node.\n",
        "class TreeNode:\n",
        "    def __init__(self, val=0, left=None, right=None):\n",
        "        self.val = val\n",
        "        self.left = left\n",
        "        self.right = right\n",
        "class Solution:\n",
        "    def sortedArrayToBST(self, nums: List[int]) -> Optional[TreeNode]:\n",
        "\n",
        "        def treeBuilder(l,r):\n",
        "            if l > r:\n",
        "                return None\n",
        "            m = (l+r) // 2\n",
        "            root = TreeNode(nums[m])\n",
        "            root.left = treeBuilder(l, m -1)\n",
        "            root.right = treeBuilder(m+1, r)\n",
        "            return root\n",
        "\n",
        "        return treeBuilder(0, len(nums) - 1)\n",
        "\n",
        "# Time: O(N)\n",
        "# Space: O(log(N))"
      ],
      "metadata": {
        "id": "KApzozeMrFmk"
      },
      "execution_count": null,
      "outputs": []
    },
    {
      "cell_type": "markdown",
      "source": [
        "# **BFS Binary Tree and Add Levels to List**"
      ],
      "metadata": {
        "id": "-XCmX1aEu34l"
      }
    },
    {
      "cell_type": "code",
      "source": [
        "#Definition for a binary tree node.\n",
        "class TreeNode:\n",
        "    def __init__(self, val=0, left=None, right=None):\n",
        "        self.val = val\n",
        "        self.left = left\n",
        "        self.right = right\n",
        "\n",
        "class Solution:\n",
        "    def levelOrder(self, root):\n",
        "        queue = collections.deque()\n",
        "        queue.append(root)\n",
        "        container = []\n",
        "        while queue:\n",
        "            level = []\n",
        "            for i in range(len(queue)):\n",
        "                node = queue.popleft()\n",
        "                if node:\n",
        "                    level.append(node.val)\n",
        "                    queue.append(node.left)\n",
        "                    queue.append(node.right)\n",
        "            if level:\n",
        "                container.append(level)\n",
        "        return container\n",
        "\n",
        "# Time: O(N)\n",
        "# Space: 0(N)"
      ],
      "metadata": {
        "id": "9XLL7ADdvAdc"
      },
      "execution_count": 5,
      "outputs": []
    },
    {
      "cell_type": "markdown",
      "source": [
        "# **2D Matrix Rotation**"
      ],
      "metadata": {
        "id": "pA1hocg7rMGZ"
      }
    },
    {
      "cell_type": "code",
      "source": [
        "class Solution:\n",
        "    def rotate(self, matrix: List[List[int]]) -> None:\n",
        "        \"\"\"\n",
        "        Do not return anything, modify matrix in-place instead.\n",
        "        \"\"\"\n",
        "        left, right = 0, len(matrix) - 1\n",
        "        while left < right:\n",
        "            for i in range(right - left):\n",
        "                #When i > 0\n",
        "                #subtracting i from the bottom shifts up\n",
        "                # adding i to the top shifts down\n",
        "                #subtracting i from the right shifts left\n",
        "                #adding i to the left shifts right\n",
        "                top, bottom = left, right\n",
        "                temp = matrix[top][left + i]\n",
        "\n",
        "                matrix[top][left + i] = matrix[bottom - i][left]\n",
        "                matrix[bottom - i][left] =matrix[bottom][right - i]\n",
        "                matrix[bottom][right - i] = matrix[top + i][right]\n",
        "                matrix[top + i][right] = temp\n",
        "            ##Shift all the pointers to handle the inside of the matrix\n",
        "            right -= 1\n",
        "            left += 1\n",
        "\n",
        "# Time: O(N^2) the size of the N * N square matrix\n",
        "# Space: O(1)"
      ],
      "metadata": {
        "id": "2ZjfEGavrTsi"
      },
      "execution_count": null,
      "outputs": []
    }
  ]
}